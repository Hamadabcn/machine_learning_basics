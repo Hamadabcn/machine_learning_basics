{
 "cells": [
  {
   "cell_type": "code",
   "execution_count": 1,
   "id": "c5540966",
   "metadata": {},
   "outputs": [
    {
     "name": "stdout",
     "output_type": "stream",
     "text": [
      "Intercept (b0): 7.43\n",
      "Coefficent (b1): 0.93\n"
     ]
    }
   ],
   "source": [
    "from sklearn.linear_model import LinearRegression\n",
    "\n",
    "Age = [[10],[20],[40],[50],[70],[90]]\n",
    "Failures = [15,30,40,55,75,90]\n",
    "\n",
    "model = LinearRegression()\n",
    "\n",
    "model.fit(Age, Failures)\n",
    "\n",
    "b0 = round(model.intercept_, 2)\n",
    "b1 = round(model.coef_[0], 2)\n",
    "\n",
    "print('Intercept (b0):',b0)\n",
    "print('Coefficent (b1):', b1)"
   ]
  },
  {
   "cell_type": "code",
   "execution_count": 8,
   "id": "4f4e05e5",
   "metadata": {},
   "outputs": [
    {
     "name": "stdout",
     "output_type": "stream",
     "text": [
      "At the age of 60, the number of machine failures will be [63.23529412]\n"
     ]
    }
   ],
   "source": [
    "age = [[60]]\n",
    "\n",
    "pred1 = model.predict(age)\n",
    "\n",
    "print('At the age of 60, the number of machine failures will be', pred1)"
   ]
  },
  {
   "cell_type": "code",
   "execution_count": 9,
   "id": "ee90849d",
   "metadata": {},
   "outputs": [
    {
     "name": "stdout",
     "output_type": "stream",
     "text": [
      "At the age of 60, the number of machine failures will be 63.23529411764707\n"
     ]
    }
   ],
   "source": [
    "b0 = model.intercept_\n",
    "b1 = model.coef_[0]\n",
    "\n",
    "pred2 = b0 + b1 * age[0][0]\n",
    "\n",
    "print('At the age of 60, the number of machine failures will be', pred2)"
   ]
  },
  {
   "cell_type": "code",
   "execution_count": 13,
   "id": "e0cb512c",
   "metadata": {},
   "outputs": [
    {
     "name": "stdout",
     "output_type": "stream",
     "text": [
      "[16.72794118 26.02941176 44.63235294 53.93382353 72.53676471 91.13970588]\n",
      "MSE : 8.118872549019612\n",
      "RMSE : 2.849363534022925\n",
      "MAE : 2.5\n"
     ]
    }
   ],
   "source": [
    "y_pred = model.predict(Age)\n",
    "print(y_pred)\n",
    "\n",
    "from sklearn.metrics import mean_squared_error\n",
    "from sklearn.metrics import mean_absolute_error\n",
    "\n",
    "from math import sqrt\n",
    "\n",
    "print('MSE :', mean_squared_error(y_pred, Failures))\n",
    "print('RMSE :', sqrt(mean_squared_error(y_pred, Failures)))\n",
    "\n",
    "print('MAE :', mean_absolute_error(y_pred, Failures))"
   ]
  }
 ],
 "metadata": {
  "kernelspec": {
   "display_name": "Python 3 (ipykernel)",
   "language": "python",
   "name": "python3"
  },
  "language_info": {
   "codemirror_mode": {
    "name": "ipython",
    "version": 3
   },
   "file_extension": ".py",
   "mimetype": "text/x-python",
   "name": "python",
   "nbconvert_exporter": "python",
   "pygments_lexer": "ipython3",
   "version": "3.11.5"
  }
 },
 "nbformat": 4,
 "nbformat_minor": 5
}
