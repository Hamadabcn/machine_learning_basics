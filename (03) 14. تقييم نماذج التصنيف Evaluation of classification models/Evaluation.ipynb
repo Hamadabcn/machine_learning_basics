{
 "cells": [
  {
   "cell_type": "code",
   "execution_count": 2,
   "id": "20a03662",
   "metadata": {},
   "outputs": [
    {
     "name": "stdout",
     "output_type": "stream",
     "text": [
      "Accuracy Score on train :100.00\n",
      "Accuracy Score on test :0.00\n"
     ]
    }
   ],
   "source": [
    "from sklearn.tree import DecisionTreeClassifier\n",
    "from sklearn.metrics import accuracy_score \n",
    "\n",
    "x_train = [[0,0], [0,1], [1,0]]\n",
    "y_train =[0,1,1]\n",
    "x_test = [[1,1]]\n",
    "y_test = [0]\n",
    "\n",
    "model = DecisionTreeClassifier(criterion=\"entropy\")\n",
    "model.fit(x_train, y_train)\n",
    "\n",
    "y_pred_train = model.predict(x_train)\n",
    "y_pred_test = model.predict(x_test)\n",
    "\n",
    "print ('Accuracy Score on train :{:.2f}'.format(accuracy_score(y_pred_train, y_train)*100))\n",
    "print ('Accuracy Score on test :{:.2f}'.format(accuracy_score(y_pred_test, y_test)*100))"
   ]
  },
  {
   "cell_type": "code",
   "execution_count": 5,
   "id": "d630ce25",
   "metadata": {},
   "outputs": [
    {
     "name": "stdout",
     "output_type": "stream",
     "text": [
      "Accuracy Score on train :66.67\n",
      "Accuracy Score on test :100.00\n"
     ]
    }
   ],
   "source": [
    "x_train = [[0,0], [0,0], [1,0]]\n",
    "y_train =[1,0,0]\n",
    "x_test = [[1,1]]\n",
    "y_test = [0]\n",
    "\n",
    "model = DecisionTreeClassifier(criterion=\"entropy\")\n",
    "model.fit(x_train, y_train)\n",
    "\n",
    "y_pred_train = model.predict(x_train)\n",
    "y_pred_test = model.predict(x_test)\n",
    "\n",
    "print ('Accuracy Score on train :{:.2f}'.format(accuracy_score(y_pred_train, y_train)*100))\n",
    "print ('Accuracy Score on test :{:.2f}'.format(accuracy_score(y_pred_test, y_test)*100))"
   ]
  }
 ],
 "metadata": {
  "kernelspec": {
   "display_name": "Python 3 (ipykernel)",
   "language": "python",
   "name": "python3"
  },
  "language_info": {
   "codemirror_mode": {
    "name": "ipython",
    "version": 3
   },
   "file_extension": ".py",
   "mimetype": "text/x-python",
   "name": "python",
   "nbconvert_exporter": "python",
   "pygments_lexer": "ipython3",
   "version": "3.11.5"
  }
 },
 "nbformat": 4,
 "nbformat_minor": 5
}
