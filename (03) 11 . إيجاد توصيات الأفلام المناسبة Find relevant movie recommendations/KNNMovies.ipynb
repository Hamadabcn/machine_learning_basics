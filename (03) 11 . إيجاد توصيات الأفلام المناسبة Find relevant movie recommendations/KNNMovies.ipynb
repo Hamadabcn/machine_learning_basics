{
 "cells": [
  {
   "cell_type": "code",
   "execution_count": 29,
   "id": "d24e3202",
   "metadata": {},
   "outputs": [
    {
     "name": "stdout",
     "output_type": "stream",
     "text": [
      "(array([[0.        , 1.41421356, 1.41421356, 1.41421356, 1.41421356]]), array([[11,  4,  3,  5,  0]], dtype=int64))\n"
     ]
    }
   ],
   "source": [
    "import pandas as pd\n",
    "from sklearn.neighbors import NearestNeighbors\n",
    "\n",
    "df = pd.read_csv('movies_recommendation_data.csv')\n",
    "\n",
    "x = df[['Biography','Drama','Thriller','Comedy','Crime','Mystery','History']]\n",
    "\n",
    "model = NearestNeighbors()\n",
    "\n",
    "model.fit(x)\n",
    "\n",
    "Movie = [[0,1,1,0,1,0,0]]\n",
    "Movie_df = pd.DataFrame(Movie, columns=['Biography','Drama','Thriller','Comedy','Crime','Mystery','History'])\n",
    "\n",
    "neighbors = model.kneighbors(Movie_df, 5)\n",
    "print(neighbors)"
   ]
  },
  {
   "cell_type": "code",
   "execution_count": 45,
   "id": "fb4c4099",
   "metadata": {},
   "outputs": [
    {
     "name": "stdout",
     "output_type": "stream",
     "text": [
      "11        A Time To Kill\n",
      "4           Forrest Gump\n",
      "3      Good Will Hunting\n",
      "5                     21\n",
      "0     The Imitation Game\n",
      "Name: Movie Name, dtype: object\n"
     ]
    }
   ],
   "source": [
    "for index in neighbors[1]:\n",
    "    print(df.iloc[index,1])"
   ]
  }
 ],
 "metadata": {
  "kernelspec": {
   "display_name": "Python 3 (ipykernel)",
   "language": "python",
   "name": "python3"
  },
  "language_info": {
   "codemirror_mode": {
    "name": "ipython",
    "version": 3
   },
   "file_extension": ".py",
   "mimetype": "text/x-python",
   "name": "python",
   "nbconvert_exporter": "python",
   "pygments_lexer": "ipython3",
   "version": "3.11.5"
  }
 },
 "nbformat": 4,
 "nbformat_minor": 5
}
