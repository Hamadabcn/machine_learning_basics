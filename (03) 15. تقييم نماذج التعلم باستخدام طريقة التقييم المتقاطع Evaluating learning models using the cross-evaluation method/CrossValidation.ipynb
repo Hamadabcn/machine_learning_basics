{
 "cells": [
  {
   "cell_type": "code",
   "execution_count": 1,
   "id": "b46da378",
   "metadata": {},
   "outputs": [],
   "source": [
    "import pandas as pd\n",
    "\n",
    "df = pd.read_csv('Iris.csv')\n",
    "\n",
    "df['Species'].replace('Iris-setosa', 0, inplace=True)\n",
    "df['Species'].replace('Iris-virginica', 1, inplace=True)\n",
    "df['Species'].replace('Iris-versicolor', 2, inplace=True)\n",
    "\n",
    "x = df[['SepalLengthCm', 'SepalWidthCm', 'PetalLengthCm', 'PetalWidthCm']]\n",
    "\n",
    "y = df['Species']"
   ]
  },
  {
   "cell_type": "code",
   "execution_count": 2,
   "id": "c585432f",
   "metadata": {},
   "outputs": [
    {
     "name": "stdout",
     "output_type": "stream",
     "text": [
      "[0.93333333 0.96666667 0.93333333 0.93333333 1.        ]\n",
      "Accuracy = 95.33\n"
     ]
    }
   ],
   "source": [
    "import sklearn.model_selection\n",
    "from sklearn.model_selection import cross_val_score\n",
    "\n",
    "from sklearn.naive_bayes import GaussianNB\n",
    "gnb = GaussianNB()\n",
    "\n",
    "score_accuracy = cross_val_score(gnb, x, y, cv=5, scoring='accuracy')\n",
    "print(score_accuracy)\n",
    "\n",
    "meanScore = score_accuracy.mean()\n",
    "print('Accuracy =', round(meanScore * 100, 2))"
   ]
  }
 ],
 "metadata": {
  "kernelspec": {
   "display_name": "Python 3 (ipykernel)",
   "language": "python",
   "name": "python3"
  },
  "language_info": {
   "codemirror_mode": {
    "name": "ipython",
    "version": 3
   },
   "file_extension": ".py",
   "mimetype": "text/x-python",
   "name": "python",
   "nbconvert_exporter": "python",
   "pygments_lexer": "ipython3",
   "version": "3.11.5"
  }
 },
 "nbformat": 4,
 "nbformat_minor": 5
}
