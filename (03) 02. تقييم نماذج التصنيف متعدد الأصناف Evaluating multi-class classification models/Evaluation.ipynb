{
 "cells": [
  {
   "cell_type": "code",
   "execution_count": 8,
   "id": "d693822e",
   "metadata": {},
   "outputs": [
    {
     "name": "stdout",
     "output_type": "stream",
     "text": [
      "Confusion Matrix\n",
      "\n",
      "[[7 8 9]\n",
      " [1 2 3]\n",
      " [3 2 1]]\n"
     ]
    }
   ],
   "source": [
    "from sklearn.metrics import confusion_matrix, accuracy_score, precision_score, recall_score, f1_score\n",
    "\n",
    "actual = ['apple','apple','apple','apple','apple','apple','apple','apple','apple','apple','apple','orange','orange','orange','orange','orange','orange','orange','orange','orange','orange','orange','orange','mango','mango','mango','mango','mango','mango','mango','mango','mango','mango','mango','mango','mango']\n",
    "predicted = ['apple','apple','apple','apple','apple','apple','apple','orange','mango','mango','mango','apple','apple','apple','apple','apple','apple','apple','apple','orange','orange','mango','mango','apple','apple','apple','apple','apple','apple','apple','apple','apple','orange','orange','orange','mango']\n",
    "\n",
    "# this for-loop is for actual\n",
    "for i in range(len(actual)):\n",
    "    if actual[i] == 'apple':\n",
    "        actual[i] = 0\n",
    "    elif actual[i] == 'orange':\n",
    "        actual[i] = 1\n",
    "    else:\n",
    "        actual[i] = 2\n",
    "        \n",
    "# thiss for loop is for predicted\n",
    "for i in range(len(predicted)):\n",
    "    if predicted[i] == 'apple':\n",
    "        predicted[i] = 0\n",
    "    elif predicted[i] == 'orange':\n",
    "        predicted[i] = 1\n",
    "    else:\n",
    "        predicted[i] = 2\n",
    "        \n",
    "cf_matrix = confusion_matrix(predicted, actual)\n",
    "\n",
    "print('Confusion Matrix\\n')\n",
    "print(cf_matrix)"
   ]
  },
  {
   "cell_type": "code",
   "execution_count": 9,
   "id": "8005c456",
   "metadata": {},
   "outputs": [
    {
     "data": {
      "text/plain": [
       "<Axes: >"
      ]
     },
     "execution_count": 9,
     "metadata": {},
     "output_type": "execute_result"
    },
    {
     "data": {
      "image/png": "[encoded data removed]",
      "text/plain": [
       "<Figure size 640x480 with 2 Axes>"
      ]
     },
     "metadata": {},
     "output_type": "display_data"
    }
   ],
   "source": [
    "import seaborn as sns\n",
    "\n",
    "sns.heatmap(cf_matrix, annot=True)"
   ]
  },
  {
   "cell_type": "code",
   "execution_count": 10,
   "id": "f1882d13",
   "metadata": {},
   "outputs": [
    {
     "name": "stdout",
     "output_type": "stream",
     "text": [
      "Accuracy:0.28\n"
     ]
    }
   ],
   "source": [
    "print('Accuracy:{:.2f}'.format(accuracy_score(actual, predicted)))"
   ]
  },
  {
   "cell_type": "code",
   "execution_count": 11,
   "id": "92e1a741",
   "metadata": {},
   "outputs": [
    {
     "name": "stdout",
     "output_type": "stream",
     "text": [
      "0.2777777777777778\n",
      "Micro Precision: 0.28\n",
      "Micro Recall: 0.28\n",
      "Micro F1: 0.28\n",
      "Macro Precision: 0.26\n",
      "Macro Recall: 0.29\n",
      "Macro F1: 0.24\n",
      "Weighted Precision: 0.26\n",
      "Weighted: 0.28\n",
      "Weighted: 0.23\n"
     ]
    }
   ],
   "source": [
    "print(accuracy_score(actual, predicted))\n",
    "\n",
    "print('Micro Precision: {:.2f}'.format(precision_score(actual, predicted, average='micro')))\n",
    "print('Micro Recall: {:.2f}'.format(recall_score(actual, predicted, average='micro')))\n",
    "print('Micro F1: {:.2f}'.format(f1_score(actual, predicted, average='micro')))\n",
    "\n",
    "print('Macro Precision: {:.2f}'.format(precision_score(actual, predicted, average='macro')))\n",
    "print('Macro Recall: {:.2f}'.format(recall_score(actual, predicted, average='macro')))\n",
    "print('Macro F1: {:.2f}'.format(f1_score(actual, predicted, average='macro')))\n",
    "\n",
    "print('Weighted Precision: {:.2f}'.format(precision_score(actual, predicted, average='weighted')))\n",
    "print('Weighted: {:.2f}'.format(recall_score(actual, predicted, average='weighted')))\n",
    "print('Weighted: {:.2f}'.format(f1_score(actual, predicted, average='weighted')))"
   ]
  },
  {
   "cell_type": "code",
   "execution_count": 12,
   "id": "9dd1a4c3",
   "metadata": {},
   "outputs": [
    {
     "name": "stdout",
     "output_type": "stream",
     "text": [
      "Classification Report:\n",
      "\n",
      "              precision    recall  f1-score   support\n",
      "\n",
      "       Apple       0.29      0.64      0.40        11\n",
      "      Orange       0.33      0.17      0.22        12\n",
      "       Mango       0.17      0.08      0.11        13\n",
      "\n",
      "    accuracy                           0.28        36\n",
      "   macro avg       0.26      0.29      0.24        36\n",
      "weighted avg       0.26      0.28      0.23        36\n",
      "\n"
     ]
    }
   ],
   "source": [
    "from sklearn.metrics import classification_report\n",
    "\n",
    "print('Classification Report:\\n')\n",
    "print(classification_report(actual, predicted, target_names=['Apple', 'Orange', 'Mango']))"
   ]
  }
 ],
 "metadata": {
  "kernelspec": {
   "display_name": "Python 3 (ipykernel)",
   "language": "python",
   "name": "python3"
  },
  "language_info": {
   "codemirror_mode": {
    "name": "ipython",
    "version": 3
   },
   "file_extension": ".py",
   "mimetype": "text/x-python",
   "name": "python",
   "nbconvert_exporter": "python",
   "pygments_lexer": "ipython3",
   "version": "3.11.5"
  }
 },
 "nbformat": 4,
 "nbformat_minor": 5
}
