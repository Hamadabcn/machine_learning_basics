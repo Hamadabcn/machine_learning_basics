{
 "cells": [
  {
   "cell_type": "code",
   "execution_count": 1,
   "id": "f8fd1985",
   "metadata": {},
   "outputs": [],
   "source": [
    "import pandas as pd\n",
    "\n",
    "df = pd.read_csv(\"iris.csv\")\n",
    "\n",
    "df['Species'].replace('Iris-setosa', 0, inplace=True)\n",
    "df['Species'].replace('Iris-virginica', 1, inplace=True)\n",
    "df['Species'].replace('Iris-versicolor', 2, inplace=True)\n",
    "\n",
    "x = df[['SepalLengthCm','SepalWidthCm','PetalLengthCm','PetalWidthCm']]\n",
    "\n",
    "y = df['Species']"
   ]
  },
  {
   "cell_type": "code",
   "execution_count": 2,
   "id": "29a70d19",
   "metadata": {},
   "outputs": [],
   "source": [
    "from sklearn.model_selection import cross_val_score\n",
    "\n",
    "def cv_comparison_classification(models, x, y, cv):\n",
    "    cv_df = pd.DataFrame()\n",
    "    for model in models:\n",
    "        acc = cross_val_score(model, x, y, scoring='accuracy', cv=cv)\n",
    "        acc_avg = round(acc.mean(), 3)\n",
    "        cv_df[str(model)] = [ acc_avg]\n",
    "        cv_df.index = ['Accuracy']\n",
    "    return cv_df"
   ]
  },
  {
   "cell_type": "code",
   "execution_count": 3,
   "id": "c388658f",
   "metadata": {},
   "outputs": [
    {
     "name": "stdout",
     "output_type": "stream",
     "text": [
      "          DecisionTreeClassifier()  GaussianNB()  \\\n",
      "Accuracy                     0.967         0.953   \n",
      "\n",
      "          LogisticRegression(max_iter=1000)  KNeighborsClassifier()  SVC()  \n",
      "Accuracy                              0.973                   0.973  0.967  \n"
     ]
    }
   ],
   "source": [
    "from sklearn.linear_model import LogisticRegression\n",
    "\n",
    "from sklearn.tree import DecisionTreeClassifier\n",
    "\n",
    "from sklearn.naive_bayes import GaussianNB\n",
    "\n",
    "from sklearn.neighbors import KNeighborsClassifier\n",
    "\n",
    "from sklearn import svm\n",
    "\n",
    "mlr_d = DecisionTreeClassifier()\n",
    "mlr_g = GaussianNB()\n",
    "mlr_reg = LogisticRegression(max_iter=1000)\n",
    "mlr_k = KNeighborsClassifier()\n",
    "mlr_svc = svm.SVC(kernel='rbf')\n",
    "\n",
    "models = [mlr_d, mlr_g, mlr_reg, mlr_k, mlr_svc]\n",
    "\n",
    "comp_df = cv_comparison_classification(models, x, y, 5)\n",
    "\n",
    "print(comp_df)"
   ]
  }
 ],
 "metadata": {
  "kernelspec": {
   "display_name": "Python 3 (ipykernel)",
   "language": "python",
   "name": "python3"
  },
  "language_info": {
   "codemirror_mode": {
    "name": "ipython",
    "version": 3
   },
   "file_extension": ".py",
   "mimetype": "text/x-python",
   "name": "python",
   "nbconvert_exporter": "python",
   "pygments_lexer": "ipython3",
   "version": "3.11.5"
  }
 },
 "nbformat": 4,
 "nbformat_minor": 5
}
