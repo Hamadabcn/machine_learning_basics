{
 "cells": [
  {
   "cell_type": "code",
   "execution_count": 9,
   "id": "bc72e1d2",
   "metadata": {
    "is_executing": true
   },
   "outputs": [
    {
     "name": "stdout",
     "output_type": "stream",
     "text": [
      "Requirement already satisfied: gym in c:\\users\\mohbc\\anaconda3\\lib\\site-packages (0.26.2)\n",
      "Requirement already satisfied: numpy>=1.18.0 in c:\\users\\mohbc\\anaconda3\\lib\\site-packages (from gym) (1.24.3)\n",
      "Requirement already satisfied: cloudpickle>=1.2.0 in c:\\users\\mohbc\\anaconda3\\lib\\site-packages (from gym) (2.2.1)\n",
      "Requirement already satisfied: gym-notices>=0.0.4 in c:\\users\\mohbc\\anaconda3\\lib\\site-packages (from gym) (0.0.8)\n",
      "Note: you may need to restart the kernel to use updated packages.\n"
     ]
    }
   ],
   "source": [
    "pip install gym"
   ]
  },
  {
   "cell_type": "code",
   "execution_count": 10,
   "id": "2ac93322",
   "metadata": {
    "is_executing": true
   },
   "outputs": [
    {
     "name": "stdout",
     "output_type": "stream",
     "text": [
      "+---------+\n",
      "|R: | : :G|\n",
      "| : | : : |\n",
      "| : : : : |\n",
      "|\u001b[43m \u001b[0m| : | : |\n",
      "|\u001b[35mY\u001b[0m| : |\u001b[34;1mB\u001b[0m: |\n",
      "+---------+\n",
      "\n",
      "\n"
     ]
    }
   ],
   "source": [
    "import gym\n",
    "\n",
    "env = gym.make(\"Taxi-v3\",render_mode=\"ansi\").env\n",
    "\n",
    "env.reset(seed=0)\n",
    "\n",
    "env = env.unwrapped\n",
    "\n",
    "arr = env.render()\n",
    "print(arr)\n"
   ]
  },
  {
   "cell_type": "code",
   "execution_count": 11,
   "id": "15080c76",
   "metadata": {},
   "outputs": [
    {
     "name": "stdout",
     "output_type": "stream",
     "text": [
      "Action Space  Discrete(6)\n",
      "State Space  Discrete(500)\n"
     ]
    }
   ],
   "source": [
    "print(\"Action Space \", env.action_space)\n",
    "print(\"State Space \", env.observation_space)\n"
   ]
  },
  {
   "cell_type": "code",
   "execution_count": 12,
   "id": "e65a2373",
   "metadata": {},
   "outputs": [
    {
     "name": "stdout",
     "output_type": "stream",
     "text": [
      "State:  492\n",
      "+---------+\n",
      "|\u001b[35mR\u001b[0m: | : :G|\n",
      "| : | : : |\n",
      "| : : : : |\n",
      "| | : | : |\n",
      "|Y| : |\u001b[34;1mB\u001b[0m:\u001b[43m \u001b[0m|\n",
      "+---------+\n",
      "\n",
      "\n"
     ]
    }
   ],
   "source": [
    "state = env.encode(4, 4, 3, 0)\n",
    "print(\"State: \", state)\n",
    "\n",
    "env.s = state\n",
    "\n",
    "arr = env.render()\n",
    "print(arr)\n"
   ]
  },
  {
   "cell_type": "code",
   "execution_count": 13,
   "id": "9f355007",
   "metadata": {},
   "outputs": [
    {
     "data": {
      "text/plain": [
       "{0: [(1.0, 492, -1, False)],\n",
       " 1: [(1.0, 392, -1, False)],\n",
       " 2: [(1.0, 492, -1, False)],\n",
       " 3: [(1.0, 472, -1, False)],\n",
       " 4: [(1.0, 492, -10, False)],\n",
       " 5: [(1.0, 492, -10, False)]}"
      ]
     },
     "execution_count": 13,
     "metadata": {},
     "output_type": "execute_result"
    }
   ],
   "source": [
    "env.P[env.s]\n"
   ]
  },
  {
   "cell_type": "code",
   "execution_count": 14,
   "id": "e280aeb1",
   "metadata": {},
   "outputs": [
    {
     "name": "stdout",
     "output_type": "stream",
     "text": [
      "Timesteps taken: 1834\n",
      "Penalties incurred: 610\n"
     ]
    }
   ],
   "source": [
    "state = env.encode(4, 4, 3, 0) # where the taxi is on the map\n",
    "\n",
    "env.s = state\n",
    "\n",
    "epochs = 0 # how many times he went around the map\n",
    "penalties= 0 # how many errors in taking or leaving the clients in a wrong place\n",
    "\n",
    "frames = [] # so we can see how he did it by frames\n",
    "\n",
    "done = False # don't stop until you get to the target\n",
    "\n",
    "while not done:\n",
    "    action = env.action_space.sample() # if it is not done do the next step, .sample() so he can choose his actions randomly\n",
    "    \n",
    "    state, reward, done, _,_ = env.step(action)\n",
    "    \n",
    "    if reward == -10:\n",
    "        penalties += 1\n",
    "    \n",
    "    frames.append({\n",
    "        'state': state,\n",
    "        'action': action,\n",
    "        'reward': reward\n",
    "        }\n",
    "    )\n",
    "    \n",
    "    epochs += 1\n",
    "    \n",
    "print(\"Timesteps taken: {}\".format(epochs))\n",
    "print(\"Penalties incurred: {}\".format(penalties))\n"
   ]
  },
  {
   "cell_type": "code",
   "execution_count": 15,
   "id": "72278adc",
   "metadata": {},
   "outputs": [
    {
     "name": "stdout",
     "output_type": "stream",
     "text": [
      "+---------+\n",
      "|\u001b[35m\u001b[34;1m\u001b[43mR\u001b[0m\u001b[0m\u001b[0m: | : :G|\n",
      "| : | : : |\n",
      "| : : : : |\n",
      "| | : | : |\n",
      "|Y| : |B: |\n",
      "+---------+\n",
      "  (Dropoff)\n",
      "\n",
      "Timestep: 1834\n",
      "State: 0\n",
      "Action: Drop-off\n",
      "Reward: 20\n"
     ]
    }
   ],
   "source": [
    "from IPython.display import clear_output\n",
    "from time import sleep\n",
    "\n",
    "def print_frames(frames):\n",
    "    actions = ['North', 'South', 'East', 'West', 'Pick-up', 'Drop-off']\n",
    "    for i, frame in enumerate(frames):\n",
    "        \n",
    "        env.s = frame['state']\n",
    "        \n",
    "        clear_output(wait=True)\n",
    "        \n",
    "        arr = env.render()\n",
    "        print(arr)\n",
    "        \n",
    "        print(f\"Timestep: {i + 1}\")\n",
    "        print(f\"State: {frame['state']}\")\n",
    "        print(f\"Action: {actions[frame['action']]}\")\n",
    "        print(f\"Reward: {frame['reward']}\")\n",
    "        sleep(0.1)\n",
    "\n",
    "print_frames(frames)\n"
   ]
  },
  {
   "cell_type": "code",
   "execution_count": 16,
   "id": "06447cc7",
   "metadata": {},
   "outputs": [
    {
     "name": "stdout",
     "output_type": "stream",
     "text": [
      "Results after 100 episodes:\n",
      "Average timesteps per episode: 2350.0\n",
      "Average penalties per episode: 282.3457249070632\n"
     ]
    }
   ],
   "source": [
    "episodes = 100\n",
    "\n",
    "total_epochs = 0\n",
    "\n",
    "total_penalties = 0\n",
    "\n",
    "for _ in range(episodes):\n",
    "    state = env.reset()\n",
    "    \n",
    "    penalties = 0\n",
    "    reward = 0\n",
    "    epochs = 0\n",
    "    done = False\n",
    "    \n",
    "    while not done:\n",
    "        action = env.action_space.sample()\n",
    "        \n",
    "        state, reward, done, _,_ = env.step(action)\n",
    "        \n",
    "        if reward == -10:\n",
    "            penalties += 1\n",
    "        \n",
    "        epochs += 1\n",
    "        \n",
    "    total_penalties += penalties\n",
    "    total_epochs += epochs\n",
    "    \n",
    "print(f\"Results after {episodes} episodes:\")\n",
    "print(f\"Average timesteps per episode: {(total_epochs / episodes)}\")\n",
    "print(f\"Average penalties per episode: {(total_penalties / penalties)}\")\n"
   ]
  },
  {
   "cell_type": "code",
   "execution_count": 18,
   "id": "d0dfc36e",
   "metadata": {},
   "outputs": [
    {
     "data": {
      "text/plain": [
       "array([[0., 0., 0., 0., 0., 0.],\n",
       "       [0., 0., 0., 0., 0., 0.],\n",
       "       [0., 0., 0., 0., 0., 0.],\n",
       "       ...,\n",
       "       [0., 0., 0., 0., 0., 0.],\n",
       "       [0., 0., 0., 0., 0., 0.],\n",
       "       [0., 0., 0., 0., 0., 0.]])"
      ]
     },
     "execution_count": 18,
     "metadata": {},
     "output_type": "execute_result"
    }
   ],
   "source": [
    "import numpy as np\n",
    "\n",
    "states = env.observation_space.n\n",
    "\n",
    "actions = env.action_space.n\n",
    "\n",
    "q_table = np.zeros([states, actions])\n",
    "q_table\n"
   ]
  },
  {
   "cell_type": "code",
   "execution_count": 19,
   "id": "e7292279",
   "metadata": {},
   "outputs": [
    {
     "name": "stdout",
     "output_type": "stream",
     "text": [
      "Training finished.\n",
      "\n"
     ]
    }
   ],
   "source": [
    "alpha = 0.4\n",
    "gamma = 0.6\n",
    "\n",
    "episodes = 100000\n",
    "\n",
    "for i in range(episodes):\n",
    "    state = env.reset()[0]\n",
    "    \n",
    "    epochs = 0\n",
    "    \n",
    "    penalties = 0\n",
    "    done = False\n",
    "    \n",
    "    while not done:\n",
    "        action = np.argmax(q_table[state])\n",
    "\n",
    "        old_value = q_table[state, action]\n",
    "\n",
    "        next_state, reward, done, _,_ = env.step(action)\n",
    "        next_state = next_state\n",
    "\n",
    "        next_max = np.max(q_table[next_state])\n",
    "\n",
    "        new_value = (1 - alpha) * old_value + alpha * (reward + gamma * next_max) # the equation\n",
    "\n",
    "        q_table[state, action] = new_value\n",
    "\n",
    "        state = next_state\n",
    "\n",
    "print(\"Training finished.\\n\")\n"
   ]
  },
  {
   "cell_type": "code",
   "execution_count": 20,
   "id": "89497b89",
   "metadata": {},
   "outputs": [
    {
     "data": {
      "text/plain": [
       "array([[ 0.        ,  0.        ,  0.        ,  0.        ,  0.        ,\n",
       "         0.        ],\n",
       "       [-2.34417714, -2.34639386, -2.35182199, -2.34639386, -2.27325184,\n",
       "        -4.        ],\n",
       "       [-1.97237661, -1.97946063, -2.02409029, -1.97946063, -0.7504    ,\n",
       "        -4.        ],\n",
       "       ...,\n",
       "       [-1.62175492, -1.66080164, -1.62175492, -1.67971024, -4.        ,\n",
       "        -4.        ],\n",
       "       [-2.19147423, -2.17358827, -2.19147423, -2.22884995, -4.        ,\n",
       "        -4.        ],\n",
       "       [-0.736     , -0.736     , -0.736     ,  1.28      , -4.        ,\n",
       "        -4.        ]])"
      ]
     },
     "execution_count": 20,
     "metadata": {},
     "output_type": "execute_result"
    }
   ],
   "source": [
    "q_table\n"
   ]
  },
  {
   "cell_type": "code",
   "execution_count": 21,
   "id": "beb91105",
   "metadata": {},
   "outputs": [
    {
     "name": "stdout",
     "output_type": "stream",
     "text": [
      "Results after 100 episodes:\n",
      "Average timesteps per episode: 13.28\n",
      "Average penalties per episode: 0.0\n"
     ]
    }
   ],
   "source": [
    "episodes = 100\n",
    "\n",
    "total_epochs = 0\n",
    "\n",
    "total_penalties = 0\n",
    "\n",
    "for _ in range(episodes):\n",
    "    state = env.reset()[0]\n",
    "    \n",
    "    penalties = 0\n",
    "    reward = 0\n",
    "    epochs = 0\n",
    "    done = False\n",
    "    \n",
    "    while not done:\n",
    "        action = np.argmax(q_table[state])\n",
    "        \n",
    "        state, reward, done, _,_ = env.step(action)\n",
    "        \n",
    "        if reward == -10:\n",
    "            penalties += 1\n",
    "        \n",
    "        epochs += 1\n",
    "    \n",
    "    total_penalties += penalties\n",
    "    \n",
    "    total_epochs += epochs\n",
    "\n",
    "print(f\"Results after {episodes} episodes:\")\n",
    "print(f\"Average timesteps per episode: {(total_epochs / episodes)}\")\n",
    "print(f\"Average penalties per episode: {total_penalties / episodes}\")\n"
   ]
  },
  {
   "cell_type": "code",
   "execution_count": 27,
   "id": "c72c89db",
   "metadata": {},
   "outputs": [
    {
     "name": "stdout",
     "output_type": "stream",
     "text": [
      "+---------+\n",
      "|\u001b[35m\u001b[34;1m\u001b[43mR\u001b[0m\u001b[0m\u001b[0m: | : :G|\n",
      "| : | : : |\n",
      "| : : : : |\n",
      "| | : | : |\n",
      "|Y| : |B: |\n",
      "+---------+\n",
      "  (Dropoff)\n",
      "\n",
      "Timestep: 10\n",
      "State: 0\n",
      "Action: Drop-off\n",
      "Reward: 20\n"
     ]
    }
   ],
   "source": [
    "state = env.encode(4, 4, 3, 0)\n",
    "print(\"State:\", state)\n",
    "\n",
    "env.s = state\n",
    "\n",
    "arr=env.render()\n",
    "print(arr)\n",
    "\n",
    "frames = []\n",
    "\n",
    "done = False\n",
    "\n",
    "while not done:\n",
    "    action = np.argmax(q_table[state])\n",
    "    \n",
    "    state, reward, done, _, _ = env.step(action)\n",
    "    \n",
    "    frames.append({\n",
    "        'state': state,\n",
    "        'action': action,\n",
    "        'reward': reward\n",
    "        }\n",
    "    )\n",
    "\n",
    "print_frames(frames)\n"
   ]
  },
  {
   "cell_type": "code",
   "execution_count": null,
   "id": "1fcd7fde",
   "metadata": {},
   "outputs": [],
   "source": []
  }
 ],
 "metadata": {
  "kernelspec": {
   "display_name": "Python 3 (ipykernel)",
   "language": "python",
   "name": "python3"
  },
  "language_info": {
   "codemirror_mode": {
    "name": "ipython",
    "version": 3
   },
   "file_extension": ".py",
   "mimetype": "text/x-python",
   "name": "python",
   "nbconvert_exporter": "python",
   "pygments_lexer": "ipython3",
   "version": "3.11.5"
  }
 },
 "nbformat": 4,
 "nbformat_minor": 5
}
