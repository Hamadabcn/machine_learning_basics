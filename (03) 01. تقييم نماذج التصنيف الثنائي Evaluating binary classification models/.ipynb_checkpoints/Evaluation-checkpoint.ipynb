{
 "cells": [
  {
   "cell_type": "code",
   "execution_count": 3,
   "id": "2cc468ec",
   "metadata": {},
   "outputs": [
    {
     "name": "stdout",
     "output_type": "stream",
     "text": [
      "Confusion Matrix:\n",
      "[[3 1]\n",
      " [2 4]]\n",
      "TP :3.00\n",
      "TN :4.00\n",
      "FP :1.00\n",
      "FN :2.00\n"
     ]
    }
   ],
   "source": [
    "from sklearn.metrics import confusion_matrix\n",
    "from sklearn.metrics import accuracy_score\n",
    "from sklearn.metrics import precision_score\n",
    "from sklearn.metrics import recall_score\n",
    "from sklearn.metrics import f1_score\n",
    "\n",
    "actual = ['cat', 'dog', 'cat', 'dog', 'cat', 'cat', 'dog', 'cat', 'dog', 'dog']\n",
    "predicted = ['cat', 'cat', 'cat', 'dog', 'cat', 'cat', 'dog', 'dog', 'dog', 'cat']\n",
    "\n",
    "cf_matrix = confusion_matrix(predicted, actual, labels = ['dog', 'cat'])\n",
    "\n",
    "print('Confusion Matrix:') # A confusion matrix shows how many prediction are correct and incorrect per class\n",
    "print(cf_matrix)\n",
    "\n",
    "TP = cf_matrix[0,0] # TP true positive\n",
    "TN = cf_matrix[1,1] # TN true negative\n",
    "FP = cf_matrix[0,1] # FP false positive\n",
    "FN = cf_matrix[1,0] # FN false negative\n",
    "\n",
    "print('TP :{:.2f}'.format(TP))\n",
    "print('TN :{:.2f}'.format(TN))\n",
    "print('FP :{:.2f}'.format(FP))\n",
    "print('FN :{:.2f}'.format(FN))\n",
    "\n",
    "print('Accuracy_core:')"
   ]
  }
 ],
 "metadata": {
  "kernelspec": {
   "display_name": "Python 3 (ipykernel)",
   "language": "python",
   "name": "python3"
  },
  "language_info": {
   "codemirror_mode": {
    "name": "ipython",
    "version": 3
   },
   "file_extension": ".py",
   "mimetype": "text/x-python",
   "name": "python",
   "nbconvert_exporter": "python",
   "pygments_lexer": "ipython3",
   "version": "3.11.5"
  }
 },
 "nbformat": 4,
 "nbformat_minor": 5
}
